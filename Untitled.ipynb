{
 "cells": [
  {
   "cell_type": "code",
   "execution_count": 1,
   "id": "535ba3a9-e937-4f73-bec5-2c2ba982563a",
   "metadata": {},
   "outputs": [
    {
     "name": "stderr",
     "output_type": "stream",
     "text": [
      "2022-07-10 16:34:12.141 INFO    numexpr.utils: NumExpr defaulting to 8 threads.\n"
     ]
    }
   ],
   "source": [
    "# Importing the necessary libraries and dependencies :\n",
    "import streamlit as st\n",
    "import pandas as pd\n",
    "from dataclasses import dataclass\n",
    "from typing import Any, List\n",
    "import datetime as dt\n",
    "import hashlib"
   ]
  },
  {
   "cell_type": "code",
   "execution_count": 2,
   "id": "7e3b1285-c1ed-41a1-b56b-7c02c3ec8e53",
   "metadata": {},
   "outputs": [],
   "source": [
    "# making the record dataclass :\n",
    "@dataclass\n",
    "class Record:\n",
    "    sender : str\n",
    "    receiver : str\n",
    "    amount : float"
   ]
  },
  {
   "cell_type": "code",
   "execution_count": 3,
   "id": "417a4961-baaa-40ac-b678-2fee4cc5678b",
   "metadata": {},
   "outputs": [],
   "source": [
    "# making the block dataclass\n",
    "class Block:\n",
    "    record : Any\n",
    "    creator_id : int\n",
    "    prev_hash : str = '0'\n",
    "    timestamp : str = dt.datetime.utcnow().strftime('%H:%M:%S')\n",
    "    nonce : int = 0\n",
    "    \n",
    "    def hash_block(self):\n",
    "        sha = hashlib.sha256()\n",
    "        \n",
    "        record = str(self.record).encode()\n",
    "        sha.update(record)\n",
    "        \n",
    "        creator_id = (self.creator_id).encode()\n",
    "        sha.update(creator_id)\n",
    "        \n",
    "        prev_hash = (self.prev_hash).encode()\n",
    "        sha.update(prev_hash)\n",
    "        \n",
    "        timestamp = (self.timestamp).encode()\n",
    "        sha.update(timestamp)\n",
    "        \n",
    "        nonce = (self.nonce).encode()\n",
    "        sha.update(nonce)\n",
    "        \n",
    "        return sha.hexdigest()"
   ]
  },
  {
   "cell_type": "code",
   "execution_count": 5,
   "id": "1874a3bd-4d9c-45fc-bd1b-93e0a4ff1e0e",
   "metadata": {},
   "outputs": [],
   "source": [
    "# making the PyChain class:\n",
    "@dataclass\n",
    "class PyChain:\n",
    "    chain: List[Block]\n",
    "    difficulty: int =4\n",
    "    \n",
    "    def proof_of_work(self,block):\n",
    "        calculated_hash = block.hash_block()\n",
    "        number_of_zeros = '0'*self.difficulty\n",
    "        \n",
    "        while not calculated_hash.startswith(number_of_zeros):\n",
    "            block.nonce += 1\n",
    "            calculated_hash = block.hash_block()\n",
    "            \n",
    "        print('winning hash :' , calculated_hash)\n",
    "        return block\n",
    "    \n",
    "    def add_block(self,candidate_block):\n",
    "        block = self.proof_of_work(candidate_block)\n",
    "        self.chain += [block]\n",
    "        \n",
    "    def is_valid(self):\n",
    "        bock_hash = self.chain[0].hash_block()\n",
    "        \n",
    "        for i in slef.chain[1:]:\n",
    "            if block_hash != i.hash_block():\n",
    "                print('Block cain is invalid')\n",
    "                return False\n",
    "            elif block_hash == i.hash_block():\n",
    "                print('Block chain is valid')\n",
    "                return True"
   ]
  },
  {
   "cell_type": "code",
   "execution_count": null,
   "id": "3e8f4047-7a63-4a42-aade-697af7ed09d4",
   "metadata": {},
   "outputs": [],
   "source": [
    "# Streamlit code:\n",
    "@st.cache(allow_output_mutation = True)\n",
    "def setup():\n",
    "    return Pychain([Block('Genesis',0)])\n",
    "st.markdown('# PyChain')\n",
    "st.markdown('## Store a transaction Record in PyCahin')\n",
    "pychain = setup()\n",
    "\n",
    "input_data = st.text_input('Block Data')\n",
    "\n",
    "if st.button('Add Block'):\n",
    "    prev_block  = pychain.chain[-1]\n",
    "    prev_block_hash = prev_block.hash_block()\n",
    "    \n",
    "    new_block = Block(data = input_data,\n",
    "                      creator_id = 42,\n",
    "                      pre_hash = prev_block_hash)\n",
    "    \n",
    "    pychain.add_block(new_block)\n",
    "    st.balloons()\n",
    "    \n",
    "st.markdown('### The PyChain Ledger')\n",
    "pychain_df = pd.DataFrame(pychain.chain).astype(str)\n",
    "st.write(pychain_df)\n",
    "\n",
    "difficulty = st.sidebar.slider('Block Difficulty',1,5,2)\n",
    "pychain.difficulty = difficulty\n",
    "\n",
    "st.sidebar.write('#Block Inspector')\n",
    "selected_block = st.sidebar.selectbox('Which block would you like to see ?' ,pychain.chain)\n",
    "st.sidebar.write(selected_block)\n",
    "\n",
    "if st.button('validate chain'):\n",
    "    st.write(pychain.is_valid())\n",
    "    "
   ]
  }
 ],
 "metadata": {
  "kernelspec": {
   "display_name": "Python 3 (ipykernel)",
   "language": "python",
   "name": "python3"
  },
  "language_info": {
   "codemirror_mode": {
    "name": "ipython",
    "version": 3
   },
   "file_extension": ".py",
   "mimetype": "text/x-python",
   "name": "python",
   "nbconvert_exporter": "python",
   "pygments_lexer": "ipython3",
   "version": "3.7.13"
  }
 },
 "nbformat": 4,
 "nbformat_minor": 5
}
